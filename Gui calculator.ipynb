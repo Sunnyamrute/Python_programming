{
 "cells": [
  {
   "cell_type": "code",
   "execution_count": 1,
   "id": "673aa46e",
   "metadata": {},
   "outputs": [],
   "source": [
    "import tkinter as tk\n",
    "\n",
    "def button_click(event):\n",
    "    current = entry.get()\n",
    "    text = event.widget.cget(\"text\")\n",
    "    if text == \"=\":\n",
    "        try:\n",
    "            result = eval(current)\n",
    "            entry.delete(0, tk.END)\n",
    "            entry.insert(tk.END, result)\n",
    "        except Exception as e:\n",
    "            entry.delete(0, tk.END)\n",
    "            entry.insert(tk.END, \"Error\")\n",
    "    elif text == \"C\":\n",
    "        entry.delete(0, tk.END)\n",
    "    else:\n",
    "        entry.insert(tk.END, text)\n",
    "\n",
    "root = tk.Tk()\n",
    "root.geometry(\"300x400\")\n",
    "root.title(\"Simple Calculator\")\n",
    "\n",
    "entry = tk.Entry(root, font=\"Helvetica 24 bold\")\n",
    "entry.pack(fill=tk.BOTH, ipadx=8, padx=10, pady=10)\n",
    "\n",
    "buttons = [\n",
    "    (\"7\", \"8\", \"9\", \"/\"),\n",
    "    (\"4\", \"5\", \"6\", \"*\"),\n",
    "    (\"1\", \"2\", \"3\", \"-\"),\n",
    "    (\"0\", \".\", \"=\", \"+\"),\n",
    "    (\"C\")\n",
    "]\n",
    "\n",
    "for row in buttons:\n",
    "    button_frame = tk.Frame(root)\n",
    "    button_frame.pack()\n",
    "    for button_text in row:\n",
    "        button = tk.Button(button_frame, text=button_text, padx=20, pady=20, font=\"Helvetica 16\", relief=\"ridge\")\n",
    "        button.pack(side=tk.LEFT)\n",
    "        button.bind(\"<Button-1>\", button_click)\n",
    "\n",
    "root.mainloop()\n"
   ]
  },
  {
   "cell_type": "code",
   "execution_count": null,
   "id": "d50039df",
   "metadata": {},
   "outputs": [],
   "source": []
  }
 ],
 "metadata": {
  "kernelspec": {
   "display_name": "Python 3 (ipykernel)",
   "language": "python",
   "name": "python3"
  },
  "language_info": {
   "codemirror_mode": {
    "name": "ipython",
    "version": 3
   },
   "file_extension": ".py",
   "mimetype": "text/x-python",
   "name": "python",
   "nbconvert_exporter": "python",
   "pygments_lexer": "ipython3",
   "version": "3.9.13"
  }
 },
 "nbformat": 4,
 "nbformat_minor": 5
}
